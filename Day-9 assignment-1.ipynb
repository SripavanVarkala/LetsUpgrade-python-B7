{
 "cells": [
  {
   "cell_type": "markdown",
   "metadata": {},
   "source": [
    "# pyLint and Unit Testing"
   ]
  },
  {
   "cell_type": "code",
   "execution_count": 6,
   "metadata": {},
   "outputs": [
    {
     "name": "stdout",
     "output_type": "stream",
     "text": [
      "Requirement already satisfied: pyLint in c:\\users\\sripa\\anaconda3\\lib\\site-packages (2.5.3)\n",
      "Requirement already satisfied: colorama; sys_platform == \"win32\" in c:\\users\\sripa\\anaconda3\\lib\\site-packages (from pyLint) (0.4.3)\n",
      "Requirement already satisfied: astroid<=2.5,>=2.4.0 in c:\\users\\sripa\\anaconda3\\lib\\site-packages (from pyLint) (2.4.2)\n",
      "Requirement already satisfied: isort<5,>=4.2.5 in c:\\users\\sripa\\anaconda3\\lib\\site-packages (from pyLint) (4.3.21)\n",
      "Requirement already satisfied: mccabe<0.7,>=0.6 in c:\\users\\sripa\\anaconda3\\lib\\site-packages (from pyLint) (0.6.1)\n",
      "Requirement already satisfied: toml>=0.7.1 in c:\\users\\sripa\\anaconda3\\lib\\site-packages (from pyLint) (0.10.1)\n",
      "Requirement already satisfied: six~=1.12 in c:\\users\\sripa\\anaconda3\\lib\\site-packages (from astroid<=2.5,>=2.4.0->pyLint) (1.15.0)\n",
      "Requirement already satisfied: wrapt~=1.11 in c:\\users\\sripa\\anaconda3\\lib\\site-packages (from astroid<=2.5,>=2.4.0->pyLint) (1.11.2)\n",
      "Requirement already satisfied: lazy-object-proxy==1.4.* in c:\\users\\sripa\\anaconda3\\lib\\site-packages (from astroid<=2.5,>=2.4.0->pyLint) (1.4.3)\n"
     ]
    }
   ],
   "source": [
    "! pip install pyLint"
   ]
  },
  {
   "cell_type": "code",
   "execution_count": 74,
   "metadata": {},
   "outputs": [
    {
     "name": "stdout",
     "output_type": "stream",
     "text": [
      "Overwriting somecode.py\n"
     ]
    }
   ],
   "source": [
    "%%writefile somecode.py\n",
    "'''program to find a given number is prime or not'''\n",
    "num = int(input(\"Enter a number: \"))\n",
    "if num > 1:\n",
    "    for i in range(2, num):\n",
    "        if (num % i) == 0:\n",
    "            print(num, \"is not a prime number\")\n",
    "            print(i, \"times\", num//i, \"is\", num)\n",
    "            break\n",
    "    else:\n",
    "        print(num, \"is a prime number\")\n",
    "else:\n",
    "    print(num, \"is not a prime number\")"
   ]
  },
  {
   "cell_type": "code",
   "execution_count": 75,
   "metadata": {},
   "outputs": [
    {
     "name": "stdout",
     "output_type": "stream",
     "text": [
      "\n",
      "-------------------------------------------------------------------\n",
      "\n",
      "Your code has been rated at 10.00/10 (previous run: 7.27/10, +2.73)\n",
      "\n",
      "\n",
      "\n"
     ]
    }
   ],
   "source": [
    "! pyLint \"somecode.py\""
   ]
  },
  {
   "cell_type": "code",
   "execution_count": null,
   "metadata": {},
   "outputs": [],
   "source": []
  }
 ],
 "metadata": {
  "kernelspec": {
   "display_name": "Python 3",
   "language": "python",
   "name": "python3"
  },
  "language_info": {
   "codemirror_mode": {
    "name": "ipython",
    "version": 3
   },
   "file_extension": ".py",
   "mimetype": "text/x-python",
   "name": "python",
   "nbconvert_exporter": "python",
   "pygments_lexer": "ipython3",
   "version": "3.8.3"
  }
 },
 "nbformat": 4,
 "nbformat_minor": 4
}
