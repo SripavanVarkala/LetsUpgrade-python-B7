{
 "cells": [
  {
   "cell_type": "code",
   "execution_count": 1,
   "metadata": {},
   "outputs": [],
   "source": [
    "x=1042000"
   ]
  },
  {
   "cell_type": "code",
   "execution_count": null,
   "metadata": {},
   "outputs": [],
   "source": [
    "y=702648265"
   ]
  },
  {
   "cell_type": "code",
   "execution_count": null,
   "metadata": {},
   "outputs": [],
   "source": [
    "while x<=y:\n",
    "    sum=0\n",
    "    temp=x\n",
    "    while temp>0:\n",
    "        digit=temp%10\n",
    "        sum+=digit**3\n",
    "        temp=temp//10\n",
    "    if sum==x:\n",
    "        print(\"The first armstrong number is: \",x)\n",
    "        break;\n",
    "    x=x+1\n",
    "else:\n",
    "    print(\"there is no number\")\n",
    "    "
   ]
  },
  {
   "cell_type": "code",
   "execution_count": null,
   "metadata": {},
   "outputs": [],
   "source": [
    "for x in range(150,160):\n",
    "    sum=0\n",
    "    temp=x\n",
    "    while temp>0:\n",
    "        digit=temp%10\n",
    "        sum+=((digit*digit)*digit)\n",
    "        temp=temp/10\n",
    "    print(\"d\")  \n",
    "    if sum==x:\n",
    "        print(\"The first armstrong number is: \",x)\n",
    "        break;"
   ]
  },
  {
   "cell_type": "code",
   "execution_count": null,
   "metadata": {},
   "outputs": [],
   "source": []
  }
 ],
 "metadata": {
  "kernelspec": {
   "display_name": "Python 3",
   "language": "python",
   "name": "python3"
  },
  "language_info": {
   "codemirror_mode": {
    "name": "ipython",
    "version": 3
   },
   "file_extension": ".py",
   "mimetype": "text/x-python",
   "name": "python",
   "nbconvert_exporter": "python",
   "pygments_lexer": "ipython3",
   "version": "3.8.3"
  }
 },
 "nbformat": 4,
 "nbformat_minor": 4
}
